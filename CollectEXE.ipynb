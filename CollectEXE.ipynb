{
 "cells": [
  {
   "cell_type": "code",
   "execution_count": null,
   "metadata": {},
   "outputs": [],
   "source": [
    "import os,shutil,errno,fnmatch"
   ]
  },
  {
   "cell_type": "code",
   "execution_count": null,
   "metadata": {},
   "outputs": [],
   "source": [
    "src_path = \"C:\\\\\"\n",
    "dst_path = \"D:\\\\08_Dataset\\\\Benign\\\\\"\n",
    "ext = '*.exe'\n",
    "max_size = 204800 #bytes (200KB)\n",
    "ultra_max = 307200"
   ]
  },
  {
   "cell_type": "code",
   "execution_count": null,
   "metadata": {},
   "outputs": [],
   "source": [
    "def copyFiles(src_path,dst_path,ext,max_size):\n",
    "    total_count = 0\n",
    "    total_size = 0\n",
    "    dst_dir = dst_path\n",
    "    if not os.path.exists(dst_dir):\n",
    "            os.makedirs(dst_dir)\n",
    "    for src_dir, dirs, files in os.walk(src_path):\n",
    "        #dst_dir = src_dir.replace(src_path, dst_path, 1)\n",
    "        for file_ in files:\n",
    "            try:\n",
    "                src_file = os.path.join(src_dir, file_)\n",
    "                dst_file = os.path.join(dst_dir, file_)\n",
    "            \n",
    "                if not fnmatch.fnmatch(src_file,'*.exe'):\n",
    "                    continue\n",
    "\n",
    "                src_file_size = os.stat(src_file).st_size\n",
    "                if src_file_size > max_size:\n",
    "                    continue\n",
    "            \n",
    "                #if os.path.exists(dst_file):\n",
    "                    #os.remove(dst_file)\n",
    "                print(total_count,\"      \",src_file,dst_file)\n",
    "            \n",
    "                shutil.copy(src_file, dst_dir)\n",
    "                total_count += 1\n",
    "                total_size += src_file_size\n",
    "            except:\n",
    "                print(\"Copy failed \", src_file)\n",
    "    return total_count, total_size"
   ]
  },
  {
   "cell_type": "code",
   "execution_count": null,
   "metadata": {},
   "outputs": [],
   "source": [
    "total_count,total_size = copyFiles(src_path,dst_path,ext,max_size)\n",
    "mb = total_size/(1024 * 1024)\n",
    "print('Total files copied: {0}    Collective size: {1:.2} MB'.format(total_count,mb))"
   ]
  }
 ],
 "metadata": {
  "kernelspec": {
   "display_name": "Python 3",
   "language": "python",
   "name": "python3"
  },
  "language_info": {
   "codemirror_mode": {
    "name": "ipython",
    "version": 3
   },
   "file_extension": ".py",
   "mimetype": "text/x-python",
   "name": "python",
   "nbconvert_exporter": "python",
   "pygments_lexer": "ipython3",
   "version": "3.7.1"
  }
 },
 "nbformat": 4,
 "nbformat_minor": 2
}
